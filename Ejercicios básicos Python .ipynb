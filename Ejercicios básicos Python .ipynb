{
 "cells": [
  {
   "cell_type": "markdown",
   "metadata": {},
   "source": [
    "$$UNIVERSIDAD\\hspace{1mm} AUTÓNOMA\\hspace{1mm} DE\\hspace{1mm} NUEVO\\hspace{1mm} LEÓN $$$$Facultad\\hspace{1mm}  de\\hspace {1mm}Ciencias\\hspace{1mm} Físico-Matemáticas $$$$Ejercicios\\hspace{1mm}de\\hspace{1mm}Python\\hspace{1mm}Básicos\\hspace{1mm} $$$$Minería\\hspace{1mm}de\\hspace{1mm}Datos$$$$\\hspace{1mm}$$\n",
    "\n"
   ]
  },
  {
   "cell_type": "markdown",
   "metadata": {},
   "source": [
    "\n",
    "###### Gloria Nohemí Martínez Jiménez 1805800"
   ]
  },
  {
   "cell_type": "markdown",
   "metadata": {},
   "source": [
    "#### EJERCICIO 1 ####\n",
    "\n",
    "Realiza una variable con tu matricula y realiza una secuencia de imprimir con tu nombre y tu matricula concatenados."
   ]
  },
  {
   "cell_type": "code",
   "execution_count": 1,
   "metadata": {},
   "outputs": [],
   "source": [
    "Matricula=1805800\n",
    "print(\"Gloria Nohemí Martínez Jiménez\",str(Matricula))"
   ]
  },
  {
   "cell_type": "markdown",
   "metadata": {},
   "source": [
    "#### EJERCICIO 2####\n",
    "\n",
    "Pidiendo el input del usuario pide dos números y crea una pequeña calculadora con los operadores básicos de suma, resta, multiplicación, división, y exponente."
   ]
  },
  {
   "cell_type": "code",
   "execution_count": 2,
   "metadata": {},
   "outputs": [
    {
     "name": "stdout",
     "output_type": "stream",
     "text": [
      "Introduce un número:  2\n",
      "Introduce otro número: 2\n",
      "\n",
      " 1:Suma\n",
      "\n",
      " 2:Resta\n",
      "\n",
      " 3:Multiplicación\n",
      "\n",
      " 4:División\n",
      "\n",
      " 5:Exponente\n",
      "\n",
      "¿Qué operación quieres realizar?  1\n",
      "\n",
      "El resultado de la suma es:4\n"
     ]
    }
   ],
   "source": [
    "n1 = int(input(\"Introduce un número:  \" ))\n",
    "n2 = int(input(\"Introduce otro número: \"))\n",
    "\n",
    "print(\"\\n 1:Suma\")\n",
    "print(\"\\n 2:Resta\")\n",
    "print(\"\\n 3:Multiplicación\")\n",
    "print(\"\\n 4:División\")\n",
    "print(\"\\n 5:Exponente\")\n",
    "\n",
    "Operacion=int(input(\"\\n¿Qué operación quieres realizar?  \"))\n",
    "if Operacion==1:\n",
    "    print(\"\\nEl resultado de la suma es:\"+str(n1+n2))\n",
    "elif Operacion==2:\n",
    "    print(\"\\nEl resultado de la resta es:\"+str(n1-n2))\n",
    "elif Operacion==3:\n",
    "    print(\"\\nEl resultado de la multiplicación  es:\"+str(n1*n2))\n",
    "elif Operacion==4:\n",
    "    print(\"\\nEl resultado de la división es:\"+str(n1/n2))\n",
    "elif Operacion==5:\n",
    "    print(\"\\nEl resultado del expotente es: \"+str(n1**n2))\n",
    "else: print(\"Opción no válida\")  "
   ]
  },
  {
   "cell_type": "markdown",
   "metadata": {},
   "source": [
    "#### EJERCICIO 3 ####\n",
    "\n",
    "Con loop while o for, realiza una lista de 10 numeros multiplos de 3, y después realiza una función de loop que sume todos los números dentro del arreglo."
   ]
  },
  {
   "cell_type": "code",
   "execution_count": 3,
   "metadata": {},
   "outputs": [
    {
     "name": "stdout",
     "output_type": "stream",
     "text": [
      "[3, 6, 9, 12, 15, 18, 21, 24, 27, 30]\n",
      "La suma de los elementos de la lista es 165\n"
     ]
    }
   ],
   "source": [
    "list= []\n",
    "for i in range(0,30,3):\n",
    "    list.append(3+i)\n",
    "print(list)\n",
    "\n",
    "suma=0\n",
    "for dato in list:\n",
    "    suma=suma+dato\n",
    "    \n",
    "print(\"La suma de los elementos de la lista es\",str(suma))"
   ]
  },
  {
   "cell_type": "markdown",
   "metadata": {},
   "source": [
    "#### EJERCICIO 4 ####\n",
    "\n",
    "- Con una función de if else, revisar si un número es par o es impar.\n"
   ]
  },
  {
   "cell_type": "code",
   "execution_count": 4,
   "metadata": {},
   "outputs": [
    {
     "name": "stdout",
     "output_type": "stream",
     "text": [
      "Introduce un número:  2\n",
      "El número es par\n"
     ]
    }
   ],
   "source": [
    "numero= int(input(\"Introduce un número:  \" ))\n",
    "if numero%2==0:\n",
    "    print(\"El número es par\")\n",
    "else:\n",
    "    print(\"El número es impar\")"
   ]
  },
  {
   "cell_type": "markdown",
   "metadata": {},
   "source": [
    "- Con una función de if else, revisar si un número es primo o no."
   ]
  },
  {
   "cell_type": "code",
   "execution_count": 5,
   "metadata": {},
   "outputs": [
    {
     "name": "stdout",
     "output_type": "stream",
     "text": [
      "Introduce un número:  29\n",
      "El número es primo\n"
     ]
    }
   ],
   "source": [
    "numero= int(input(\"Introduce un número:  \" ))\n",
    "x=0\n",
    "for i in range(2,numero-1):\n",
    "    if numero%i==0:\n",
    "        x=1\n",
    "if x==0:\n",
    "    print(\"El número es primo\")  \n",
    "else:\n",
    "    print(\"El número NO es primo\")"
   ]
  },
  {
   "cell_type": "markdown",
   "metadata": {},
   "source": [
    "#### EJERCICIO 5 ####\n",
    "\n",
    "Utilizando diferentes clases en python, crea una calculadora con los operadores básicos de suma, resta, multiplicación, división, y exponente."
   ]
  },
  {
   "cell_type": "code",
   "execution_count": 6,
   "metadata": {},
   "outputs": [],
   "source": [
    "#https://parzibyte.me/blog/2019/06/30/clases-constructores-python-poo/\n",
    "class calculadora():\n",
    "    def __init__(self):\n",
    "        self.numero1=0\n",
    "        self.numero2=0\n",
    "        self.resultado=0\n",
    "        \n",
    "    def datos(self):\n",
    "        self.numero1=int(input(\"Introduce un número:  \" ))\n",
    "        self.numero2=int(input(\"Introduce un número:  \" ))      \n",
    "\n",
    "        \n",
    "class suma(calculadora):\n",
    "    \n",
    "    def __init__(self):\n",
    "        super().__init__()\n",
    "        \n",
    "    def sum(self):\n",
    "        resultado=self.numero1+self.numero2\n",
    "        self.resultado=resultado\n",
    "        \n",
    "class resta(calculadora):\n",
    "      \n",
    "    def __init__(self):\n",
    "        super().__init__()\n",
    "        \n",
    "    def res(self):\n",
    "        resultado=self.numero1-self.numero2\n",
    "        self.resultado=resultado\n",
    "        \n",
    "class multiplicacion(calculadora):\n",
    "     \n",
    "    def __init__(self):\n",
    "        super().__init__()\n",
    "        \n",
    "    def mul(self):\n",
    "        resultado=self.numero1*self.numero2\n",
    "        self.resultado=resultado\n",
    "        \n",
    "class division(calculadora):\n",
    "     \n",
    "    def __init__(self):\n",
    "        super().__init__()\n",
    "        \n",
    "    def div(self):\n",
    "        resultado=self.numero1/self.numero2\n",
    "        self.resultado=resultado\n",
    "        \n",
    "class exponente(calculadora):\n",
    "    \n",
    "    def __init__(self):\n",
    "        super().__init__()\n",
    "        \n",
    "    def exp(self):\n",
    "        resultado=self.numero1**self.numero2\n",
    "        self.resultado=resultado"
   ]
  },
  {
   "cell_type": "code",
   "execution_count": 7,
   "metadata": {},
   "outputs": [
    {
     "name": "stdout",
     "output_type": "stream",
     "text": [
      "\n",
      " 1:Suma\n",
      "\n",
      " 2:Resta\n",
      "\n",
      " 3:Multiplicación\n",
      "\n",
      " 4:División\n",
      "\n",
      " 5:Exponente\n",
      "\n",
      "¿Qué operación quieres realizar?  2\n",
      "Introduce un número:  3\n",
      "Introduce un número:  1\n",
      "\n",
      "El resultado de la resta es:2\n"
     ]
    }
   ],
   "source": [
    "print(\"\\n 1:Suma\")\n",
    "print(\"\\n 2:Resta\")\n",
    "print(\"\\n 3:Multiplicación\")\n",
    "print(\"\\n 4:División\")\n",
    "print(\"\\n 5:Exponente\")\n",
    "\n",
    "Operacion=int(input(\"\\n¿Qué operación quieres realizar?  \"))\n",
    "if Operacion==1:\n",
    "    x=suma()\n",
    "    x.datos()\n",
    "    x.sum()\n",
    "    print(\"\\nEl resultado de la suma es:\"+str(x.resultado))\n",
    "elif Operacion==2:\n",
    "    x=resta()\n",
    "    x.datos()\n",
    "    x.res()\n",
    "    print(\"\\nEl resultado de la resta es:\"+str(x.resultado))\n",
    "elif Operacion==3:\n",
    "    x=multiplicacion()\n",
    "    x.datos()\n",
    "    x.mul()\n",
    "    print(\"\\nEl resultado de la multiplicación  es:\"+str(x.resultado))\n",
    "elif Operacion==4:\n",
    "    x=division()\n",
    "    x.datos()\n",
    "    x.div()\n",
    "    print(\"\\nEl resultado de la división es:\"+str(x.resultado))\n",
    "elif Operacion==5:\n",
    "    x=exponente()\n",
    "    x.datos()\n",
    "    x.exp()\n",
    "    print(\"\\nEl resultado del expotente es: \"+str(x.resultado))\n",
    "else: print(\"Opción no válida\")  "
   ]
  },
  {
   "cell_type": "markdown",
   "metadata": {},
   "source": [
    "### Ejercicios con estructuras básicas de python."
   ]
  },
  {
   "cell_type": "markdown",
   "metadata": {},
   "source": [
    "#### Tuplas\n",
    "- Crear una variable flotante, integer, booleana y compleja e imprimir el tipo de variable que es.\n",
    "\n"
   ]
  },
  {
   "cell_type": "code",
   "execution_count": 8,
   "metadata": {},
   "outputs": [
    {
     "data": {
      "text/plain": [
       "float"
      ]
     },
     "execution_count": 8,
     "metadata": {},
     "output_type": "execute_result"
    }
   ],
   "source": [
    "flotante=1.50\n",
    "type(flotante)"
   ]
  },
  {
   "cell_type": "code",
   "execution_count": 9,
   "metadata": {},
   "outputs": [
    {
     "data": {
      "text/plain": [
       "int"
      ]
     },
     "execution_count": 9,
     "metadata": {},
     "output_type": "execute_result"
    }
   ],
   "source": [
    "Entero=5\n",
    "type(Entero)"
   ]
  },
  {
   "cell_type": "code",
   "execution_count": 10,
   "metadata": {},
   "outputs": [
    {
     "data": {
      "text/plain": [
       "bool"
      ]
     },
     "execution_count": 10,
     "metadata": {},
     "output_type": "execute_result"
    }
   ],
   "source": [
    "Booleana=True\n",
    "type(Booleana)"
   ]
  },
  {
   "cell_type": "code",
   "execution_count": 11,
   "metadata": {},
   "outputs": [
    {
     "data": {
      "text/plain": [
       "complex"
      ]
     },
     "execution_count": 11,
     "metadata": {},
     "output_type": "execute_result"
    }
   ],
   "source": [
    "Compleja=2*(-1)**(1/2)+2\n",
    "type(Compleja)"
   ]
  },
  {
   "cell_type": "markdown",
   "metadata": {},
   "source": [
    "- Crear una tupla con valores enteros imprimir el primer y ultimo valor.\n",
    "\n"
   ]
  },
  {
   "cell_type": "code",
   "execution_count": 3,
   "metadata": {},
   "outputs": [
    {
     "name": "stdout",
     "output_type": "stream",
     "text": [
      "El primer valor de la tupla es 1\n",
      "El último valor de la tupla es 6\n"
     ]
    }
   ],
   "source": [
    "tupla=(1,2,3,4,5,6)\n",
    "print(\"El primer valor de la tupla es\",tupla[0])\n",
    "print(\"El último valor de la tupla es\",tupla[-1])"
   ]
  },
  {
   "cell_type": "markdown",
   "metadata": {},
   "source": [
    "- Añadir 3 valores de string a la tupla.\n"
   ]
  },
  {
   "cell_type": "markdown",
   "metadata": {},
   "source": [
    "Las tuplas son inmutables pero podemos convertir la tupla en una lista para poder agregar los nuevos datos y después regresarla a tupla."
   ]
  },
  {
   "cell_type": "code",
   "execution_count": 4,
   "metadata": {},
   "outputs": [
    {
     "data": {
      "text/plain": [
       "(1, 2, 3, 4, 5, 6, 'arbol', 'barco', 'casa')"
      ]
     },
     "execution_count": 4,
     "metadata": {},
     "output_type": "execute_result"
    }
   ],
   "source": [
    "conversion=list(tupla)\n",
    "conversion.append(\"arbol\")\n",
    "conversion.append(\"barco\")\n",
    "conversion.append(\"casa\")\n",
    "tupla=tuple(conversion)\n",
    "tupla"
   ]
  },
  {
   "cell_type": "markdown",
   "metadata": {},
   "source": [
    "- Verificar si una variable existe dentro de la tupla."
   ]
  },
  {
   "cell_type": "markdown",
   "metadata": {},
   "source": [
    "Usamos el método count para contar cuantas veces esta el elemento en la tupla,\n",
    "si es 0 sabremos que ese elemento no se encuentra en la tupla. "
   ]
  },
  {
   "cell_type": "code",
   "execution_count": 5,
   "metadata": {},
   "outputs": [
    {
     "data": {
      "text/plain": [
       "0"
      ]
     },
     "execution_count": 5,
     "metadata": {},
     "output_type": "execute_result"
    }
   ],
   "source": [
    "tupla.count(20)"
   ]
  },
  {
   "cell_type": "markdown",
   "metadata": {},
   "source": [
    "#### Listas\n",
    "- Crear una lista con 40 elementos aleatorios enteros.\n",
    "\n"
   ]
  },
  {
   "cell_type": "code",
   "execution_count": 6,
   "metadata": {},
   "outputs": [
    {
     "name": "stdout",
     "output_type": "stream",
     "text": [
      "[11, 5, 4, 56, 73, 41, 74, 70, 90, 24, 19, 50, 22, 80, 54, 49, 10, 13, 65, 27, 66, 25, 77, 23, 87, 71, 75, 95, 31, 67, 76, 84, 64, 81, 17, 59, 57, 16, 29, 1]\n"
     ]
    }
   ],
   "source": [
    "from random import sample \n",
    "lista=sample(range(1,100),40)\n",
    "print(lista)"
   ]
  },
  {
   "cell_type": "markdown",
   "metadata": {},
   "source": [
    "- Con una funcion (def) crear dos listas nuevas a partir de la lista creada por numeros aleatorios, en la cual en una esten los elementos pares, y en la otra los elementos impares.\n",
    "\n"
   ]
  },
  {
   "cell_type": "code",
   "execution_count": 7,
   "metadata": {},
   "outputs": [],
   "source": [
    "def paresimpares(numeros):\n",
    "    pares=[]\n",
    "    impares=[]\n",
    "    for elemento in numeros:\n",
    "        if(elemento%2==0):\n",
    "            pares.append(elemento)\n",
    "        else:\n",
    "            impares.append(elemento)\n",
    "    return pares,impares"
   ]
  },
  {
   "cell_type": "code",
   "execution_count": 8,
   "metadata": {},
   "outputs": [
    {
     "name": "stdout",
     "output_type": "stream",
     "text": [
      "[4, 56, 74, 70, 90, 24, 50, 22, 80, 54, 10, 66, 76, 84, 64, 16]\n",
      "[11, 5, 73, 41, 19, 49, 13, 65, 27, 25, 77, 23, 87, 71, 75, 95, 31, 67, 81, 17, 59, 57, 29, 1]\n"
     ]
    }
   ],
   "source": [
    "pares,impares=paresimpares(lista)\n",
    "print(pares)\n",
    "print(impares)"
   ]
  },
  {
   "cell_type": "markdown",
   "metadata": {},
   "source": [
    "- Crear dos variables con la longitud de ambas listas nuevas e imprimir las variables.\n",
    "\n"
   ]
  },
  {
   "cell_type": "code",
   "execution_count": 9,
   "metadata": {},
   "outputs": [
    {
     "name": "stdout",
     "output_type": "stream",
     "text": [
      "La longitud de la lista pares es 16\n",
      "La longitud de la lista impares es 24\n"
     ]
    }
   ],
   "source": [
    "x=len(pares)\n",
    "y=len(impares)\n",
    "print(\"La longitud de la lista pares es\",x)\n",
    "print(\"La longitud de la lista impares es\",y)"
   ]
  },
  {
   "cell_type": "markdown",
   "metadata": {},
   "source": [
    "- Ordenar los elementos de la lista par de mayor a menor, y los de la lista impar de menor a mayor.\n"
   ]
  },
  {
   "cell_type": "code",
   "execution_count": 10,
   "metadata": {},
   "outputs": [
    {
     "name": "stdout",
     "output_type": "stream",
     "text": [
      "Lista pares ordenada de mayor a menor: [90, 84, 80, 76, 74, 70, 66, 64, 56, 54, 50, 24, 22, 16, 10, 4]\n",
      "Lista impares ordenada de menor a mayor [1, 5, 11, 13, 17, 19, 23, 25, 27, 29, 31, 41, 49, 57, 59, 65, 67, 71, 73, 75, 77, 81, 87, 95]\n"
     ]
    }
   ],
   "source": [
    "pares=sorted(pares,reverse=True)\n",
    "print(\"Lista pares ordenada de mayor a menor:\",pares)\n",
    "impares=sorted(impares)\n",
    "print(\"Lista impares ordenada de menor a mayor\",impares)"
   ]
  },
  {
   "cell_type": "markdown",
   "metadata": {},
   "source": [
    "- Utilizar al menos cuatro de las funciones de listas en python en la lista original de 40 elementos."
   ]
  },
  {
   "cell_type": "markdown",
   "metadata": {},
   "source": [
    "_Operaciones matemáticas en las listas_"
   ]
  },
  {
   "cell_type": "code",
   "execution_count": 11,
   "metadata": {},
   "outputs": [
    {
     "name": "stdout",
     "output_type": "stream",
     "text": [
      "[11, 5, 4, 56, 73, 41, 74, 70, 90, 24, 19, 50, 22, 80, 54, 49, 10, 13, 65, 27, 66, 25, 77, 23, 87, 71, 75, 95, 31, 67, 76, 84, 64, 81, 17, 59, 57, 16, 29, 1, 11, 5, 4, 56, 73, 41, 74, 70, 90, 24, 19, 50, 22, 80, 54, 49, 10, 13, 65, 27, 66, 25, 77, 23, 87, 71, 75, 95, 31, 67, 76, 84, 64, 81, 17, 59, 57, 16, 29, 1]\n"
     ]
    }
   ],
   "source": [
    "nuevalista=lista*2\n",
    "print(nuevalista)"
   ]
  },
  {
   "cell_type": "markdown",
   "metadata": {},
   "source": [
    "_Remover elementos_"
   ]
  },
  {
   "cell_type": "code",
   "execution_count": 12,
   "metadata": {},
   "outputs": [
    {
     "name": "stdout",
     "output_type": "stream",
     "text": [
      "40\n",
      "39\n",
      "[5, 4, 56, 73, 41, 74, 70, 90, 24, 19, 50, 22, 80, 54, 49, 10, 13, 65, 27, 66, 25, 77, 23, 87, 71, 75, 95, 31, 67, 76, 84, 64, 81, 17, 59, 57, 16, 29, 1]\n"
     ]
    }
   ],
   "source": [
    "print(len(lista))\n",
    "lista.pop(0)\n",
    "print(len(lista))\n",
    "print(lista)"
   ]
  },
  {
   "cell_type": "markdown",
   "metadata": {},
   "source": [
    "_Recortar una lista_"
   ]
  },
  {
   "cell_type": "code",
   "execution_count": 13,
   "metadata": {},
   "outputs": [
    {
     "data": {
      "text/plain": [
       "[5, 4, 56, 73, 41, 74, 70, 90, 24, 19]"
      ]
     },
     "execution_count": 13,
     "metadata": {},
     "output_type": "execute_result"
    }
   ],
   "source": [
    "lista[0:10]"
   ]
  },
  {
   "cell_type": "markdown",
   "metadata": {},
   "source": [
    "_Insertar en una lista_"
   ]
  },
  {
   "cell_type": "code",
   "execution_count": 14,
   "metadata": {},
   "outputs": [
    {
     "name": "stdout",
     "output_type": "stream",
     "text": [
      "[100, 5, 4, 56, 73, 41, 74, 70, 90, 24, 19, 50, 22, 80, 54, 49, 10, 13, 65, 27, 66, 25, 77, 23, 87, 71, 75, 95, 31, 67, 76, 84, 64, 81, 17, 59, 57, 16, 29, 1]\n"
     ]
    }
   ],
   "source": [
    "lista.insert(0,100)\n",
    "print(lista)"
   ]
  },
  {
   "cell_type": "markdown",
   "metadata": {},
   "source": [
    "_Invertir una lista_"
   ]
  },
  {
   "cell_type": "code",
   "execution_count": 15,
   "metadata": {},
   "outputs": [
    {
     "name": "stdout",
     "output_type": "stream",
     "text": [
      "[1, 29, 16, 57, 59, 17, 81, 64, 84, 76, 67, 31, 95, 75, 71, 87, 23, 77, 25, 66, 27, 65, 13, 10, 49, 54, 80, 22, 50, 19, 24, 90, 70, 74, 41, 73, 56, 4, 5, 100]\n"
     ]
    }
   ],
   "source": [
    "lista.reverse()\n",
    "print(lista)"
   ]
  },
  {
   "cell_type": "markdown",
   "metadata": {},
   "source": [
    "_Funciones agregadas_"
   ]
  },
  {
   "cell_type": "code",
   "execution_count": 16,
   "metadata": {},
   "outputs": [
    {
     "name": "stdout",
     "output_type": "stream",
     "text": [
      "El valor mínimo de la lista es 1\n",
      "El valor máximo de la lista es 100\n",
      "La suma de los elementos de la lista es 2027\n"
     ]
    }
   ],
   "source": [
    "#https://likegeeks.com/es/funciones-de-listas-de-python/#Funciones-agregadas\n",
    "print(\"El valor mínimo de la lista es\",min(lista))\n",
    "\n",
    "print(\"El valor máximo de la lista es\",max(lista))\n",
    "\n",
    "print(\"La suma de los elementos de la lista es\",sum(lista))"
   ]
  },
  {
   "cell_type": "markdown",
   "metadata": {},
   "source": [
    "#### Diccionarios\n",
    "- Crear un diccionario de 6 personas que conozcas con su primer nombre y su edad.\n",
    "\n"
   ]
  },
  {
   "cell_type": "code",
   "execution_count": 17,
   "metadata": {},
   "outputs": [],
   "source": [
    "diccionario={\"Karina\":20,\"Oscar\":25,\"Margarita\":20,\"Johnathan\":22,\"Gabriel\":21,\"Abi\":20,}"
   ]
  },
  {
   "cell_type": "markdown",
   "metadata": {},
   "source": [
    "- Crear una lista con los valores de la edad y reacomodar la lista de menor a mayor valor.\n"
   ]
  },
  {
   "cell_type": "code",
   "execution_count": 18,
   "metadata": {},
   "outputs": [
    {
     "name": "stdout",
     "output_type": "stream",
     "text": [
      "[20, 25, 20, 22, 21, 20]\n"
     ]
    },
    {
     "data": {
      "text/plain": [
       "[20, 20, 20, 21, 22, 25]"
      ]
     },
     "execution_count": 18,
     "metadata": {},
     "output_type": "execute_result"
    }
   ],
   "source": [
    "Edades=list(diccionario.values())\n",
    "print(Edades)\n",
    "sorted(Edades)"
   ]
  },
  {
   "cell_type": "markdown",
   "metadata": {},
   "source": [
    "- Usando el diccionario y un loop, imprimir solo los nombres.\n",
    "\n"
   ]
  },
  {
   "cell_type": "code",
   "execution_count": 20,
   "metadata": {},
   "outputs": [
    {
     "name": "stdout",
     "output_type": "stream",
     "text": [
      "Karina\n",
      "Oscar\n",
      "Margarita\n",
      "Johnathan\n",
      "Gabriel\n",
      "Abi\n"
     ]
    }
   ],
   "source": [
    "for nombre in diccionario.keys():\n",
    "    print(nombre)\n"
   ]
  },
  {
   "cell_type": "markdown",
   "metadata": {},
   "source": [
    "- Añadir dos personas nuevas a tu diccionario, incluyendo edad.\n"
   ]
  },
  {
   "cell_type": "code",
   "execution_count": 21,
   "metadata": {},
   "outputs": [
    {
     "name": "stdout",
     "output_type": "stream",
     "text": [
      "{'Karina': 20, 'Oscar': 25, 'Margarita': 20, 'Johnathan': 22, 'Gabriel': 21, 'Abi': 20, 'Tania': 20, 'Alejandro': 20}\n"
     ]
    }
   ],
   "source": [
    "diccionario[\"Tania\"]=20\n",
    "diccionario[\"Alejandro\"]=20\n",
    "print(diccionario)"
   ]
  },
  {
   "cell_type": "markdown",
   "metadata": {},
   "source": [
    "#### Sets\n",
    "- Crea un set con 100 numeros aleatorios enteros del 1 al 25.\n",
    "\n"
   ]
  },
  {
   "cell_type": "code",
   "execution_count": 24,
   "metadata": {},
   "outputs": [],
   "source": [
    "import random as r\n",
    "SET=set()\n",
    "for i in range(100):\n",
    "    SET.add(r.randint(1,25))"
   ]
  },
  {
   "cell_type": "markdown",
   "metadata": {},
   "source": [
    "- Comprueba la longitud de tu set.\n",
    "\n"
   ]
  },
  {
   "cell_type": "code",
   "execution_count": 25,
   "metadata": {},
   "outputs": [
    {
     "data": {
      "text/plain": [
       "25"
      ]
     },
     "execution_count": 25,
     "metadata": {},
     "output_type": "execute_result"
    }
   ],
   "source": [
    "len(SET)"
   ]
  },
  {
   "cell_type": "markdown",
   "metadata": {},
   "source": [
    "Por ser un set no permite valores repetidos, por lo que únicamente se guardaron 25 valores."
   ]
  },
  {
   "cell_type": "markdown",
   "metadata": {},
   "source": [
    "- Crea una lista de 5 numeros aleatorios del 1 al 10 y comprueba si cada valor aparece en el set inicial."
   ]
  },
  {
   "cell_type": "code",
   "execution_count": 29,
   "metadata": {},
   "outputs": [
    {
     "name": "stdout",
     "output_type": "stream",
     "text": [
      "[10, 8, 9, 5, 2]\n",
      "True\n",
      "True\n",
      "True\n",
      "True\n",
      "True\n"
     ]
    }
   ],
   "source": [
    "lista5=[]\n",
    "for i in range(5):\n",
    "    lista5.append(r.randint(1,10))\n",
    "print(lista5)\n",
    "\n",
    "for elemento in lista5:\n",
    "    print(elemento in SET)"
   ]
  },
  {
   "cell_type": "markdown",
   "metadata": {},
   "source": [
    "Todos los valores se encuentran en el set."
   ]
  }
 ],
 "metadata": {
  "kernelspec": {
   "display_name": "Python 3",
   "language": "python",
   "name": "python3"
  },
  "language_info": {
   "codemirror_mode": {
    "name": "ipython",
    "version": 3
   },
   "file_extension": ".py",
   "mimetype": "text/x-python",
   "name": "python",
   "nbconvert_exporter": "python",
   "pygments_lexer": "ipython3",
   "version": "3.7.6"
  }
 },
 "nbformat": 4,
 "nbformat_minor": 4
}
